{
 "cells": [
  {
   "cell_type": "code",
   "execution_count": 2,
   "metadata": {},
   "outputs": [],
   "source": [
    "import scipy.io as sio\n",
    "import glob\n",
    "import pandas"
   ]
  },
  {
   "cell_type": "code",
   "execution_count": 3,
   "metadata": {
    "scrolled": true
   },
   "outputs": [
    {
     "data": {
      "text/plain": [
       "['/Users/alecmather/Desktop/Wessellab/MATLAB/ALT-H/analysis/out/Subject_125_18-Oct-2018_15.19h.mat',\n",
       " '/Users/alecmather/Desktop/Wessellab/MATLAB/ALT-H/analysis/out/Subject_108_16-Oct-2018_10.4h.mat',\n",
       " '/Users/alecmather/Desktop/Wessellab/MATLAB/ALT-H/analysis/out/Subject_114_16-Oct-2018_13.1h.mat',\n",
       " '/Users/alecmather/Desktop/Wessellab/MATLAB/ALT-H/analysis/out/Subject_109_16-Oct-2018_10.39h.mat',\n",
       " '/Users/alecmather/Desktop/Wessellab/MATLAB/ALT-H/analysis/out/Subject_118_18-Oct-2018_10.37h.mat',\n",
       " '/Users/alecmather/Desktop/Wessellab/MATLAB/ALT-H/analysis/out/Subject_119_18-Oct-2018_11.5h.mat',\n",
       " '/Users/alecmather/Desktop/Wessellab/MATLAB/ALT-H/analysis/out/Subject_123_18-Oct-2018_13.8h.mat',\n",
       " '/Users/alecmather/Desktop/Wessellab/MATLAB/ALT-H/analysis/out/Subject_112_16-Oct-2018_12.7h.mat',\n",
       " '/Users/alecmather/Desktop/Wessellab/MATLAB/ALT-H/analysis/out/Subject_111_16-Oct-2018_11.32h.mat',\n",
       " '/Users/alecmather/Desktop/Wessellab/MATLAB/ALT-H/analysis/out/Subject_116_18-Oct-2018_9.36h.mat',\n",
       " '/Users/alecmather/Desktop/Wessellab/MATLAB/ALT-H/analysis/out/Subject_107_16-Oct-2018_9.38h.mat',\n",
       " '/Users/alecmather/Desktop/Wessellab/MATLAB/ALT-H/analysis/out/Subject_117_18-Oct-2018_9.58h.mat',\n",
       " '/Users/alecmather/Desktop/Wessellab/MATLAB/ALT-H/analysis/out/Subject_115_16-Oct-2018_13.32h.mat',\n",
       " '/Users/alecmather/Desktop/Wessellab/MATLAB/ALT-H/analysis/out/Subject_110_16-Oct-2018_11.5h.mat',\n",
       " '/Users/alecmather/Desktop/Wessellab/MATLAB/ALT-H/analysis/out/Subject_113_16-Oct-2018_12.35h.mat',\n",
       " '/Users/alecmather/Desktop/Wessellab/MATLAB/ALT-H/analysis/out/Subject_124_18-Oct-2018_13.34h.mat',\n",
       " '/Users/alecmather/Desktop/Wessellab/MATLAB/ALT-H/analysis/out/Subject_121_18-Oct-2018_12.5h.mat',\n",
       " '/Users/alecmather/Desktop/Wessellab/MATLAB/ALT-H/analysis/out/Subject_122_18-Oct-2018_12.45h.mat',\n",
       " '/Users/alecmather/Desktop/Wessellab/MATLAB/ALT-H/analysis/out/Subject_120_18-Oct-2018_11.32h.mat']"
      ]
     },
     "execution_count": 3,
     "metadata": {},
     "output_type": "execute_result"
    }
   ],
   "source": [
    "# Load in files using library glob\n",
    "dir = '/Users/alecmather/Desktop/Wessellab/MATLAB/ALT-H/analysis/out/*.mat'\n",
    "files = glob.glob(dir)\n",
    "files"
   ]
  },
  {
   "cell_type": "code",
   "execution_count": 4,
   "metadata": {},
   "outputs": [],
   "source": [
    "# Create dictionaries\n",
    "participants = {}\n",
    "df = {}\n",
    "frames = []"
   ]
  },
  {
   "cell_type": "code",
   "execution_count": 5,
   "metadata": {},
   "outputs": [],
   "source": [
    "# Load in data and place all files into a dictionary called df(for data frame)\n",
    "for filename in files:\n",
    "    participants[filename] = sio.loadmat(filename, squeeze_me = True)\n",
    "    participants[filename] = participants[filename]['trialseq']\n",
    "    df[filename] = pandas.DataFrame(data = participants[filename], columns = ['Trialnum', 'Block', 'Novelty', 'Go/NoGo', 'Side', 'Response', 'RT', 'Time', 'Accuracy', 'Deadline'])\n",
    "    \n",
    "    # Append each data frame to an array\n",
    "    frames.append(df[filename])\n",
    "    \n",
    "    # Organize according to go/nogo trials and accuracy\n",
    "#     gotrials[filename] = df[filename].loc[(df[filename]['Go/NoGo'] == 1)]\n",
    "#     nogotrials[filename] = df[filename].loc[(df[filename]['Go/NoGo'] == 0)]\n",
    "#     correct[filename] = df[filename].loc[(df[filename]['Accuracy'] == 1)]\n",
    "#     error[filename] = df[filename].loc[(df[filename]['Accuracy'] == 2)]\n",
    "#     miss[filename] = df[filename].loc[(df[filename]['Accuracy'] == 99)]\n",
    "#     failstop[filename] = df[filename].loc[(df[filename]['Accuracy'] == 3)]\n",
    "#     succstop[filename] = df[filename].loc[(df[filename]['Accuracy'] == 4)]\n",
    "\n",
    "# Merge into one giant database for overall analysis\n",
    "allTrials = pandas.concat(frames)"
   ]
  },
  {
   "cell_type": "code",
   "execution_count": 6,
   "metadata": {},
   "outputs": [],
   "source": [
    "# Get go/nogo trials\n",
    "gotrials = allTrials.loc[allTrials['Go/NoGo'] == 1]\n",
    "nogotrials = allTrials.loc[allTrials['Go/NoGo'] == 0]\n",
    "\n",
    "# Break up into novelty conditions\n",
    "go_stan = gotrials.loc[gotrials['Novelty'] == 0]\n",
    "go_nov = gotrials.loc[gotrials['Novelty'] == 1]\n",
    "\n",
    "nogo_stan = nogotrials.loc[nogotrials['Novelty'] == 0]\n",
    "nogo_nov = nogotrials.loc[nogotrials['Novelty'] == 1]\n",
    "\n",
    "#Organize data by accuracy according to novelty condition\n",
    "correct_stan = go_stan.loc[go_stan['Accuracy'] == 1]\n",
    "correct_nov = go_nov.loc[go_nov['Accuracy'] == 1]\n",
    "\n",
    "error_stan = go_stan.loc[go_stan['Accuracy'] == 2]\n",
    "error_nov = go_nov.loc[go_nov['Accuracy'] == 2]\n",
    "\n",
    "miss_stan = go_stan.loc[go_stan['Accuracy'] == 99]\n",
    "miss_nov = go_nov.loc[go_nov['Accuracy'] == 99]\n",
    "\n",
    "failstop_stan = nogo_stan.loc[nogo_stan['Accuracy'] == 3]\n",
    "failstop_nov = nogo_nov.loc[nogo_nov['Accuracy'] == 3]\n",
    "\n",
    "succstop_stan = nogo_stan.loc[nogo_stan['Accuracy'] == 4]\n",
    "succstop_nov = nogo_nov.loc[nogo_nov['Accuracy'] == 4]"
   ]
  },
  {
   "cell_type": "code",
   "execution_count": 7,
   "metadata": {},
   "outputs": [
    {
     "name": "stdout",
     "output_type": "stream",
     "text": [
      "Standard Reaction time is: 501.957956163641\n",
      "Novelty Reaction time is: 492.03311075579444\n"
     ]
    }
   ],
   "source": [
    "stan_rt = correct_stan['RT'].mean()\n",
    "nov_rt = correct_nov['RT'].mean()\n",
    "print('Standard Reaction time is: ' + str(stan_rt))\n",
    "print('Novelty Reaction time is: ' + str(nov_rt))"
   ]
  },
  {
   "cell_type": "code",
   "execution_count": 8,
   "metadata": {},
   "outputs": [
    {
     "name": "stdout",
     "output_type": "stream",
     "text": [
      "Novelty error rate is: 1.2335526315789473\n",
      "Standard error rate is: 0.7606907894736842\n"
     ]
    }
   ],
   "source": [
    "error_rate_stan = 100 * (error_stan.shape[0] / go_stan.shape[0])\n",
    "error_rate_nov = 100 * (error_nov.shape[0] / go_nov.shape[0])\n",
    "print('Novelty error rate is: ' + str(error_rate_nov))\n",
    "print('Standard error rate is: ' + str(error_rate_stan))"
   ]
  },
  {
   "cell_type": "code",
   "execution_count": 9,
   "metadata": {},
   "outputs": [
    {
     "name": "stdout",
     "output_type": "stream",
     "text": [
      "Standard miss rate is: 37.72615131578947\n",
      "Novelty miss rate is: 29.029605263157894\n"
     ]
    }
   ],
   "source": [
    "miss_rate_stan = 100 * (miss_stan.shape[0] / go_stan.shape[0])\n",
    "miss_rate_nov = 100 * (miss_nov.shape[0] / go_nov.shape[0])\n",
    "print('Standard miss rate is: ' + str(miss_rate_stan))\n",
    "print('Novelty miss rate is: ' + str(miss_rate_nov))"
   ]
  },
  {
   "cell_type": "code",
   "execution_count": 10,
   "metadata": {},
   "outputs": [
    {
     "name": "stdout",
     "output_type": "stream",
     "text": [
      "Standard failstop rate is: 24.588815789473685\n",
      "Novelty failstop rate is: 36.01973684210527\n"
     ]
    }
   ],
   "source": [
    "failstop_rate_stan = 100 * (failstop_stan.shape[0] / nogo_stan.shape[0])\n",
    "failstop_rate_nov = 100 * (failstop_nov.shape[0] / nogo_nov.shape[0])\n",
    "print('Standard failstop rate is: ' + str(failstop_rate_stan))\n",
    "print('Novelty failstop rate is: ' + str(failstop_rate_nov))"
   ]
  },
  {
   "cell_type": "code",
   "execution_count": 11,
   "metadata": {},
   "outputs": [
    {
     "name": "stdout",
     "output_type": "stream",
     "text": [
      "Standard successful stopping rate is: 75.41118421052632\n",
      "Novelty successful stopping rate is: 63.98026315789473\n"
     ]
    }
   ],
   "source": [
    "succstop_rate_stan = 100 * (succstop_stan.shape[0] / nogo_stan.shape[0])\n",
    "succstop_rate_nov = 100 * (succstop_nov.shape[0] / nogo_nov.shape[0])\n",
    "print('Standard successful stopping rate is: ' + str(succstop_rate_stan))\n",
    "print('Novelty successful stopping rate is: ' + str(succstop_rate_nov))"
   ]
  },
  {
   "cell_type": "code",
   "execution_count": null,
   "metadata": {},
   "outputs": [],
   "source": []
  },
  {
   "cell_type": "code",
   "execution_count": null,
   "metadata": {},
   "outputs": [],
   "source": []
  }
 ],
 "metadata": {
  "kernelspec": {
   "display_name": "Python 3",
   "language": "python",
   "name": "python3"
  },
  "language_info": {
   "codemirror_mode": {
    "name": "ipython",
    "version": 3
   },
   "file_extension": ".py",
   "mimetype": "text/x-python",
   "name": "python",
   "nbconvert_exporter": "python",
   "pygments_lexer": "ipython3",
   "version": "3.6.5"
  }
 },
 "nbformat": 4,
 "nbformat_minor": 2
}
